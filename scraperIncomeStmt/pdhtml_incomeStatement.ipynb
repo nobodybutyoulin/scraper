{
 "cells": [
  {
   "cell_type": "markdown",
   "id": "d2718939-4f6b-43f3-9bf7-dcca44b185e9",
   "metadata": {
    "tags": []
   },
   "source": [
    "# 上市公司2021年第二季EPS公開資訊- ***<span style='color:red'>Python爬蟲專案</span>***  "
   ]
  },
  {
   "cell_type": "markdown",
   "id": "87b0605c-01dd-4deb-a9be-75d8c347dc5e",
   "metadata": {},
   "source": [
    "> 以Python程式擷取[公開資訊觀測站](https://mops.twse.com.tw/mops/web/index)網頁中的上市公司綜合損益表   \n",
    "> 將會用到python 資料處理模組**pandas dataframe**的功能包括:  \n",
    "> - 網頁爬取與分析(read_html)\n",
    "> - 建立\n",
    "> - 選取(iloc, column name)\n",
    "> - 篩選(filter)\n",
    "> - 迴圈處理(enumerate)\n",
    "> - csv檔案輸出(to_csv)\n",
    "\n",
    "| Robert Lin <nobodybutyou.lin@gmail.com> "
   ]
  },
  {
   "cell_type": "markdown",
   "id": "a6e02f99-a62a-4326-8899-ef9991a429b5",
   "metadata": {},
   "source": [
    "---  \n",
    "## 綜合損益表所在選單路徑  \n",
    "在公開資訊觀測站有關上市公司的綜合損益表的表單選取路徑如下圖所示  \n",
    "\n",
    "<img src=\"incomeStmtPath.jpg\">"
   ]
  },
  {
   "cell_type": "markdown",
   "id": "846edbef-ec09-4d6f-9758-c62c697bb8aa",
   "metadata": {},
   "source": [
    "## 程式碼與說明  \n",
    "\n",
    "首先我們將會用到模組匯入, 包括資料處理模組**pandas**, 數字運算與統計模組**numpy及statistics**, 我們也會利用**matplotlib**的繪圖功能且會用到中文字型, 所以會納入**pyplot及fontmanager裡的FontProperites**"
   ]
  },
  {
   "cell_type": "code",
   "execution_count": 1,
   "id": "16e7bc4e-135b-4aa6-937b-9193265dbd57",
   "metadata": {},
   "outputs": [],
   "source": [
    "import pandas as pd\n",
    "import statistics\n",
    "import numpy as np\n",
    "import matplotlib.pyplot as plt\n",
    "from matplotlib.font_manager import FontProperties"
   ]
  },
  {
   "cell_type": "markdown",
   "id": "9b059242-5ee1-4d3b-8874-5164d44d839d",
   "metadata": {},
   "source": [
    "### 資料爬取\n",
    "接下來我們要透過Chrome瀏覽器來觀察, 在**綜合損益表的畫面中**, 瀏覽器如何丟出我們的報表需求, 以取得回應文件, 我們可在綜合損益表的畫面中先**點選滑鼠右鍵**,在選取**檢查**, 即可錄取瀏覽器的畫面取得過程, 我們以選取**上市公司110年第二季**報表為例, 操作畫面如下\n",
    "\n",
    "<img src=\"incomeStmtPost1.jpg\">"
   ]
  },
  {
   "cell_type": "markdown",
   "id": "4896ed4d-2676-4367-83dc-0e01946d83f1",
   "metadata": {},
   "source": [
    "觀察開發工具中Network底下的Fetch/XHR選取發出的URL請求https://mops.twse.com.tw/mops/web/t163sb04 以及其傳送的參數內容, 截取的過程畫面如下, 可以看到傳送的參數包括**encodeURIComponent=1, step=1, firstin=1, off=1, isQuery=Y, TYPEK=sii, year=110, season=02,** 因此我們可以利用pandas中既有的**read_html**來模擬瀏覽器發出抓取指定內容的請求, 而且read_html的好處是可以將回應的html文建中以<table tag建立的表格內容, 依據<th tag標題欄及<tr tag內容欄, 直接**將回應內容內的表格內容值拆分並以dataframe格式回傳**\n",
    "\n",
    "<img src=\"incomeStmtPost2.jpg\">  \n",
    "\n",
    "模擬瀏覽器抓取指定損益表的程式碼如下, 因為畫面是中文網頁, 所以read_html必須指定**utf-8**的編碼格式, 避免中文亂碼"
   ]
  },
  {
   "cell_type": "code",
   "execution_count": 2,
   "id": "9b766170-d62b-43d2-a9e3-e92263a692d8",
   "metadata": {},
   "outputs": [],
   "source": [
    "# Return Read HTML tables into a list of DataFrame objects.\n",
    "# This function searches for <table> elements and only for <tr> and <th> rows\n",
    "# and <td> elements within each <tr> or <th> element in the table.\n",
    "urlStr = 'https://mops.twse.com.tw/mops/web/ajax_t163sb04?'\n",
    "paraStr = 'encodeURIComponent=1&step=1&firstin=1&off=1&isQuery=Y&TYPEK=sii&year=110&season=02'\n",
    "\n",
    "# findout the header row and index_col after check the result html\n",
    "dfs = pd.read_html(urlStr+paraStr, header=0, index_col=0, encoding='utf-8')"
   ]
  },
  {
   "cell_type": "markdown",
   "id": "3edd493b-4bcc-4155-9975-76718907da75",
   "metadata": {},
   "source": [
    "### 數據整理\n",
    "上市公司損益表回應的內容, 分成好多張<table, 真正的報表數值在**第二張<table**開始, 損益表的<table6張, 這**6張表格**的欄位數並未統一, 但是慶幸的是, 我們關心的基本每股盈餘EPS, 都在表格的**最後一欄**, read_html會將每個<table轉成一個dataframe, 所以我們會取得多個dataframe, 我們可以透過dataframe的**shape**[1]方法,取得每個dataframe的欄數, 另外我們可以先將各個dataframe透過**to_csv**的方法, 將損益表數據轉出成csv檔 "
   ]
  },
  {
   "cell_type": "code",
   "execution_count": 3,
   "id": "7ba461ec-92a0-442c-9bac-1d03b1b9c9fd",
   "metadata": {},
   "outputs": [
    {
     "name": "stdout",
     "output_type": "stream",
     "text": [
      "dfEpsCol=\n",
      " [None, 21, 21, 29, 21, 22, 17]\n"
     ]
    }
   ],
   "source": [
    "dfEpsCol=[None]*7\n",
    "# https://www.delftstack.com/howto/python/python-for-loop-multiple-variables/\n",
    "# Note: each table in html may have different number of cols, but the eps col all in the last one col\n",
    "# Real data info are starting from table 1\n",
    "for i, df in enumerate(dfs):\n",
    "    if i != 0:\n",
    "        df.to_csv('pdhtmlIncomeStatement'+str(i)+'.csv')\n",
    "        dfEpsCol[i]=df.shape[1]\n",
    "print(\"dfEpsCol=\\n\", dfEpsCol)"
   ]
  },
  {
   "cell_type": "markdown",
   "id": "31c51a66-12fc-49fa-934d-b783f21fcc5d",
   "metadata": {},
   "source": [
    "第二張Dataframe轉出的csv輸出檔範例如下\n",
    "\n",
    "<img src=\"incomeStmtTbl1.jpg\">"
   ]
  },
  {
   "cell_type": "markdown",
   "id": "98e1a3fa-94da-4f98-8ddb-e491813cb353",
   "metadata": {},
   "source": [
    "接下來我們要將6個分開的dataframe串成一張dataframe以便後續的數據處理與分析, 我們在讀取html的時候已經指定header row及index column, 這兩個都不會納入iloc中使用的row index和column index計算中, 新的dataframe dfReqs我們只取出公司名稱和基本每股盈餘, 股號是index, 欄位名稱會繼續沿用"
   ]
  },
  {
   "cell_type": "code",
   "execution_count": 4,
   "id": "53bd5ce7-15a2-407e-9f47-670bc6349395",
   "metadata": {},
   "outputs": [],
   "source": [
    "# use df.iloc[rowIndexRange, colInexRange] to select rows and columns\n",
    "dfReqs = pd.DataFrame()\n",
    "for i, df in enumerate(dfs):\n",
    "    if i != 0:\n",
    "        # Handing first row\n",
    "        newheader = df.iloc[0:1, [0,df.shape[1]-1]] # can be used for further usage\n",
    "        #print('newheader={}\\n, newheader.info()={}\\n'.format(newheader, newheader.info))\n",
    "        dfReqs=pd.concat([dfReqs,newheader])\n",
    "\n",
    "        # note how to include the column index\n",
    "        # https://pandas.pydata.org/pandas-docs/stable/reference/api/pandas.DataFrame.iloc.html\n",
    "        newdf = df.iloc[1:df.shape[0],[0,df.shape[1]-1]]\n",
    "        dfReqs= pd.concat([dfReqs,newdf])\n",
    "#print('dfReqs=\\n', dfReqs)"
   ]
  },
  {
   "cell_type": "markdown",
   "id": "3a6a9a0e-1dbd-4e47-b9fb-da81422e5931",
   "metadata": {},
   "source": [
    "合併後新的dataframe輸出如下\n",
    "\n",
    "<img src=\"incomeStmtMerge.jpg\">"
   ]
  },
  {
   "cell_type": "markdown",
   "id": "e4696a5a-a36a-461f-a822-6ff260e8383a",
   "metadata": {},
   "source": [
    "### 數據分析\n",
    "整理完資料後, 再來就可以玩一玩好玩的東西, 例如透過描述性統計來了解一下上市公司Q2 EPS的概況如何, 例如中位數median, percentiled中的1/4位數, 3/4位數, 最大值max, 最小值min等等, 也可列出最虧的公司和最賺的公司"
   ]
  },
  {
   "cell_type": "code",
   "execution_count": 5,
   "id": "7744a348-4b55-467d-a88f-d703e9df5380",
   "metadata": {},
   "outputs": [
    {
     "name": "stdout",
     "output_type": "stream",
     "text": [
      "EPS中位數=1.12\n",
      "\n",
      "1/4位數=0.32, 3/4位數=2.57\n",
      "\n",
      "最小值=-5.22, 最大值=61.69\n",
      "\n",
      "     公司名稱  基本每股盈餘（元）\n",
      "公司代號                \n",
      "2424   隴華      -5.22\n",
      "     公司名稱  基本每股盈餘（元）\n",
      "公司代號                \n",
      "3008  大立光      61.69\n"
     ]
    }
   ],
   "source": [
    "# dataframe的統計工具\n",
    "#https://blog.csdn.net/weixin_35973118/article/details/112148632\n",
    "print('EPS中位數={}\\n'.format(statistics.median(dfReqs.iloc[:,1])))\n",
    "# https://numpy.org/doc/stable/reference/generated/numpy.percentile.html\n",
    "# 取四分位數\n",
    "lowQ=np.percentile(dfReqs.iloc[:,1], 25)\n",
    "highQ=np.percentile(dfReqs.iloc[:,1], 75)\n",
    "minV=dfReqs.iloc[:,1].min()\n",
    "maxV=dfReqs.iloc[:,1].max()\n",
    "\n",
    "print('1/4位數={}, 3/4位數={}\\n'.format(lowQ, highQ))\n",
    "print('最小值={}, 最大值={}\\n'.format(minV, maxV))\n",
    "#dataframe filter\n",
    "print(dfReqs[dfReqs.iloc[:,1]==minV])\n",
    "print(dfReqs[dfReqs.iloc[:,1]==maxV])"
   ]
  },
  {
   "cell_type": "markdown",
   "id": "140c3f7f-9e1e-4bb8-b5b6-76885cf29da3",
   "metadata": {},
   "source": [
    "也可找出虧錢(EPS<0)的公司有哪些? 最賺錢的前十大公司是哪些? 當資料量列數很大時, python print只會列出前面幾列及最後面幾列, 中間會被省略, 若要列出dataframe所有列數資料, 可透過dataframe的**set_option**做設定"
   ]
  },
  {
   "cell_type": "code",
   "execution_count": 6,
   "id": "063bd98e-e74e-4360-a8e7-93c5178c463d",
   "metadata": {},
   "outputs": [
    {
     "name": "stdout",
     "output_type": "stream",
     "text": [
      "2021 Q2 EPS 小於0的公司\n",
      "         公司名稱  基本每股盈餘（元）\n",
      "公司代號                   \n",
      "1103      嘉泥      -0.45\n",
      "1213      大飲      -0.65\n",
      "1235      興泰      -0.34\n",
      "1236      宏亞      -0.11\n",
      "1315      達新      -1.77\n",
      "1316      上曜      -0.27\n",
      "1324      地球      -0.04\n",
      "1337   再生-KY      -0.77\n",
      "1340   勝悅-KY      -1.25\n",
      "1418      東華      -3.58\n",
      "1432     大魯閣      -1.15\n",
      "1435      中福      -0.32\n",
      "1438    三地開發      -0.13\n",
      "1441      大東      -0.07\n",
      "1445      大宇      -0.10\n",
      "1465      偉全      -0.25\n",
      "1467      南緯      -0.25\n",
      "1471      首利      -0.61\n",
      "1472     三洋紡      -0.15\n",
      "1473      台南      -0.54\n",
      "1506      正道      -0.12\n",
      "1512      瑞利      -0.23\n",
      "1538      正峰      -1.14\n",
      "1568      倉佑      -0.08\n",
      "1626  艾美特-KY      -0.53\n",
      "1721      三晃      -0.14\n",
      "1724      台硝      -0.02\n",
      "1805      寶徠      -0.21\n",
      "1806      冠軍      -0.43\n",
      "2102      泰豐      -3.08\n",
      "2241     艾姆勒      -0.21\n",
      "2243   宏旭-KY      -0.95\n",
      "2314      台揚      -0.84\n",
      "2323      中環      -0.41\n",
      "2331      精英      -0.22\n",
      "2332      友訊      -0.24\n",
      "2349      錸德      -0.25\n",
      "2363      矽統      -0.24\n",
      "2380      虹光      -0.15\n",
      "2413      環科      -0.21\n",
      "2424      隴華      -5.22\n",
      "2434      統懋      -0.10\n",
      "2438      翔耀      -0.08\n",
      "2443      億麗      -0.57\n",
      "2444      兆勁      -0.21\n",
      "2457      飛宏      -0.84\n",
      "2466     冠西電      -0.14\n",
      "2471      資通      -0.07\n",
      "2482      連宇      -0.39\n",
      "2485      兆赫      -0.66\n",
      "2498     宏達電      -1.92\n",
      "2501      國建      -0.27\n",
      "2530      華建      -0.10\n",
      "2537     聯上發      -0.10\n",
      "2538      基泰      -0.27\n",
      "2539     櫻花建      -0.15\n",
      "2547     日勝生      -0.11\n",
      "2610      華航      -0.25\n",
      "2618     長榮航      -0.41\n",
      "2702      華園      -0.85\n",
      "2704      國賓      -0.33\n",
      "2705      六福      -1.92\n",
      "2712     遠雄來      -0.01\n",
      "2722      夏都      -0.17\n",
      "2727      王品      -0.98\n",
      "2731      雄獅      -2.51\n",
      "2739      寒舍      -3.01\n",
      "2748      雲品      -0.35\n",
      "2841      台開      -1.45\n",
      "2911     麗嬰房      -1.27\n",
      "2913      農林      -0.04\n",
      "2929   淘帝-KY      -4.48\n",
      "2939   凱羿-KY      -0.95\n",
      "3004     豐達科      -1.31\n",
      "3011      今皓      -0.45\n",
      "3013     晟銘電      -0.19\n",
      "3018      同開      -0.34\n",
      "3025      星通      -0.21\n",
      "3041      揚智      -0.52\n",
      "3047      訊舟      -0.33\n",
      "3055     蔚華科      -1.98\n",
      "3057      喬鼎      -0.20\n",
      "3058      立德      -1.20\n",
      "3062      建漢      -0.02\n",
      "3149      正達      -0.01\n",
      "3229      晟鈦      -0.34\n",
      "3266      昇陽      -0.09\n",
      "3296      勝德      -0.49\n",
      "3308      聯德      -0.27\n",
      "3321      同泰      -0.31\n",
      "3383     新世紀      -1.28\n",
      "3419      譁裕      -0.07\n",
      "3494      誠研      -0.49\n",
      "3504     揚明光      -0.17\n",
      "3536      誠創      -0.72\n",
      "3576    聯合再生      -0.50\n",
      "3607      谷崧      -1.39\n",
      "3682     亞太電      -0.70\n",
      "3686      達能      -0.28\n",
      "4108      懷特      -0.27\n",
      "4141   龍燈-KY      -0.25\n",
      "4142     國光生      -0.96\n",
      "4414      如興      -0.82\n",
      "4426      利勤      -1.01\n",
      "4562      穎漢      -1.05\n",
      "4934      太極      -1.34\n",
      "4943   康控-KY      -2.64\n",
      "5225   東科-KY      -1.81\n",
      "5484      慧友      -0.17\n",
      "5525      順天      -0.20\n",
      "5531      鄉林      -0.53\n",
      "6117      迎廣      -0.55\n",
      "6120      達運      -0.88\n",
      "6133      金橋      -0.28\n",
      "6136     富爾特      -0.10\n",
      "6142      友勁      -0.96\n",
      "6152      百一      -0.27\n",
      "6153     嘉聯益      -0.51\n",
      "6209     今國光      -0.66\n",
      "6225      天瀚      -0.08\n",
      "6283      淳安      -0.52\n",
      "6289      華上      -0.02\n",
      "6443      元晶      -0.21\n",
      "6541   泰福-KY      -2.55\n",
      "6573   虹揚-KY      -0.43\n",
      "6598  ABC-KY      -0.96\n",
      "6625      必應      -1.76\n",
      "6668     中揚光      -0.74\n",
      "8011      台通      -0.49\n",
      "8101      華冠      -1.58\n",
      "8105      凌巨      -0.39\n",
      "8222      寶一      -0.96\n",
      "8443      阿瘦      -2.06\n",
      "8463     潤泰材      -0.33\n",
      "8488   吉源-KY      -0.16\n",
      "8940     新天地      -0.73\n",
      "9906     欣巴巴      -0.68\n",
      "9928      中視      -0.29\n",
      "9955      佳龍      -0.26\n",
      "2832      台產      -0.73\n",
      "2021 Q2 EPS前十大\n",
      "        公司名稱  基本每股盈餘（元）\n",
      "公司代號                  \n",
      "3008    大立光      61.69\n",
      "2454    聯發科      33.65\n",
      "2357     華碩      28.49\n",
      "6415  矽力-KY      27.07\n",
      "3034     聯詠      25.74\n",
      "2327     國巨      22.95\n",
      "6669     緯穎      22.92\n",
      "6582     申豐      21.59\n",
      "5269     祥碩      21.38\n",
      "8016     矽創      19.55\n"
     ]
    }
   ],
   "source": [
    "pd.set_option('display.max_rows', None)\n",
    "print('2021 Q2 EPS 小於0的公司\\n', dfReqs[dfReqs.iloc[:,1]< 0] )\n",
    "\n",
    "#DataFrame.sort_values(by, axis=0, ascending=True,\n",
    "#  inplace=False, kind='quicksort', na_position='last', ignore_index=False, key=None)\n",
    "dfReqs.sort_values(by='基本每股盈餘（元）', ascending=False, inplace=True)\n",
    "print('2021 Q2 EPS前十大\\n',dfReqs.head(10))"
   ]
  },
  {
   "cell_type": "markdown",
   "id": "8b3f77f2-087f-422d-93cc-81a43c641001",
   "metadata": {},
   "source": [
    "另外, 我們也可以用直方圖histogram來繪製EPS分佈, 以便視覺化顯示上市公司Q2 EPS的分布狀況, 但是因為Git hub無法處理字型檔, 就先暫時不要用中文字"
   ]
  },
  {
   "cell_type": "code",
   "execution_count": 7,
   "id": "46d8f924-81df-4f83-a394-238f3268bdbe",
   "metadata": {},
   "outputs": [
    {
     "data": {
      "text/plain": [
       "<matplotlib.legend.Legend at 0x7faf819fd8d0>"
      ]
     },
     "execution_count": 7,
     "metadata": {},
     "output_type": "execute_result"
    },
    {
     "data": {
      "image/png": "[encoded data removed]",
      "text/plain": [
       "<Figure size 720x432 with 1 Axes>"
      ]
     },
     "metadata": {
      "needs_background": "light"
     },
     "output_type": "display_data"
    }
   ],
   "source": [
    "#Specify a correct traditional chinese font\n",
    "#myfont = FontProperties(fname=r'../noto-cjk/NotoSansCJK-Black.ttc')\n",
    "\n",
    "# plot the profit rate histogram of all companies in market\n",
    "fig = plt.figure(figsize=(10, 6))\n",
    "#plt.xlabel('EPS', fontproperties=myfont)\n",
    "plt.xlabel(\"EPS\")\n",
    "#plt.title('2021年Q2 上市公司EPS分佈', fontproperties=myfont)\n",
    "plt.title('2021/Q2 Market EPS distribution')\n",
    "# dataframe的hist會回傳histograms直方圖\n",
    "dfReqs.iloc[:, 1].hist(bins=range(-40,40) , label=\"EPS\")\n",
    "#plt.legend(prop=myfont)\n",
    "plt.legend()"
   ]
  },
  {
   "cell_type": "markdown",
   "id": "381de7d0-b305-4dce-8139-5314e3ec68f0",
   "metadata": {},
   "source": [
    "## 後記\n",
    "完成後才發現python另外有個**互動式的繪圖模組plotly**可以使用, 直接將dataframe丟入plotly模組的繪圖功能呼叫, 並指定要用來繪圖的數據欄位後, 就可產出圖形, 以boxplot為例, **將滑鼠移入繪出的圖形還可顯示描述性統計**的相關數據包括最大值, 最小值, 1/4位數, 3/4位數, 中位數等\n",
    "在JuypterLab或Jupyter Notebook使用plotly, 必須另外透過pip或conda安裝套件, 相關的詳細步驟可見參考資料8, 9 內的連結\n",
    "參考的程式碼如下:  \n",
    "`import plotly.express as px`  \n",
    "`fig = px.box(dfReqs, y=\"基本每股盈餘（元）\")`  \n",
    "`fig.show()`  \n",
    "\n",
    "繪出的圖形如下\n",
    "\n",
    "<img src=\"epsboxplotplotly.jpg\">"
   ]
  },
  {
   "cell_type": "markdown",
   "id": "52beb725-be50-4f61-bcc6-424d18e85e6e",
   "metadata": {},
   "source": [
    "##  參考資料\n",
    "1.[Python.org官方教學網站](https://docs.python.org/zh-tw/3/tutorial/)提供一系列python值得一提的功能與特色與使用方式  \n",
    "\n",
    "2.[Pandas API參考文件](https://pandas.pydata.org/docs/reference/index.html)查詢datafram各種標準用法及範例, 例如\n",
    "[read_html](https://pandas.pydata.org/pandas/docs/stable/reference/api/pandas.read_html.html),\n",
    "[iloc](https://pandas.pydata.org/pandas-docs/stable/reference/api/pandas.DataFrame.iloc.html)\n",
    "\n",
    "3.[Akash NS的Python資料分析與資料視覺化教程](https://www.freecodecamp.org/news/exploratory-data-analysis-with-numpy-pandas-matplotlib-seaborn/)介紹python資料分析的一系列常用功能  \n",
    "\n",
    "4.[Yao-Jen Kuo的輕鬆學Python](https://medium.com/datainpoint/tagged/python)示範了在線執行Python的mybinder.org的功能,及一系列python使用方法範例\n",
    "\n",
    "5.[Stackoverflow有關在mybinder中顯示import ModuleNotFoundError的解法](https://stackoverflow.com/questions/61858062/install-pandas-for-jupyter-notebook-in-binder)提供在github repository根目錄中提requirementst.txt的參考範例\n",
    "\n",
    "6.[LeeMeng的Pandas實戰手冊](https://leemeng.tw/practical-pandas-tutorial-for-aspiring-data-scientists.html#)提供40個pandas數據模組快速實用的參考用法  \n",
    "\n",
    "7.[Markdown語言網站](https://markdown.tw/)查詢更多詳細用法  \n",
    "\n",
    "8.[Plotly Quickstart](https://pypi.org/project/plotly/)提供plotly模組啟用安裝及小案例\n",
    "\n",
    "9.[Plotly Examples](https://plotly.com/python/)提供plotly模組各種圖形使用案例"
   ]
  },
  {
   "cell_type": "code",
   "execution_count": null,
   "id": "bbc7b66f-9984-418f-9f0e-745cf92c1d6a",
   "metadata": {},
   "outputs": [],
   "source": []
  }
 ],
 "metadata": {
  "kernelspec": {
   "display_name": "Python 3",
   "language": "python",
   "name": "python3"
  },
  "language_info": {
   "codemirror_mode": {
    "name": "ipython",
    "version": 3
   },
   "file_extension": ".py",
   "mimetype": "text/x-python",
   "name": "python",
   "nbconvert_exporter": "python",
   "pygments_lexer": "ipython3",
   "version": "3.6.13"
  }
 },
 "nbformat": 4,
 "nbformat_minor": 5
}
